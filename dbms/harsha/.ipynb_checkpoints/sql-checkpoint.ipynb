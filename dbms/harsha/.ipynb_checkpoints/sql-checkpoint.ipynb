{
 "cells": [
  {
   "cell_type": "code",
   "execution_count": 1,
   "metadata": {},
   "outputs": [],
   "source": [
    "import sqlite3\n",
    "import pandas as pd\n",
    "import numpy as np\n"
   ]
  },
  {
   "cell_type": "code",
   "execution_count": 2,
   "metadata": {},
   "outputs": [
    {
     "data": {
      "text/html": [
       "<div>\n",
       "<style scoped>\n",
       "    .dataframe tbody tr th:only-of-type {\n",
       "        vertical-align: middle;\n",
       "    }\n",
       "\n",
       "    .dataframe tbody tr th {\n",
       "        vertical-align: top;\n",
       "    }\n",
       "\n",
       "    .dataframe thead th {\n",
       "        text-align: right;\n",
       "    }\n",
       "</style>\n",
       "<table border=\"1\" class=\"dataframe\">\n",
       "  <thead>\n",
       "    <tr style=\"text-align: right;\">\n",
       "      <th></th>\n",
       "      <th>GID</th>\n",
       "      <th>Name</th>\n",
       "    </tr>\n",
       "  </thead>\n",
       "  <tbody>\n",
       "  </tbody>\n",
       "</table>\n",
       "</div>"
      ],
      "text/plain": [
       "Empty DataFrame\n",
       "Columns: [GID, Name]\n",
       "Index: []"
      ]
     },
     "execution_count": 2,
     "metadata": {},
     "output_type": "execute_result"
    }
   ],
   "source": [
    "conn = sqlite3.connect(\"DbIMDB.db\")\n",
    "\n",
    "result = pd.read_sql_query(\"SELECT GID,Name from Genre where Name like 'Comedy' \", conn)\n",
    "\n",
    "result\n"
   ]
  },
  {
   "cell_type": "code",
   "execution_count": 3,
   "metadata": {
    "scrolled": true
   },
   "outputs": [
    {
     "ename": "SyntaxError",
     "evalue": "invalid syntax (<ipython-input-3-e82a7d918b06>, line 1)",
     "output_type": "error",
     "traceback": [
      "\u001b[0;36m  File \u001b[0;32m\"<ipython-input-3-e82a7d918b06>\"\u001b[0;36m, line \u001b[0;32m1\u001b[0m\n\u001b[0;31m    sqlite3 DbIMDB .dump >dump.sql\u001b[0m\n\u001b[0m                 ^\u001b[0m\n\u001b[0;31mSyntaxError\u001b[0m\u001b[0;31m:\u001b[0m invalid syntax\n"
     ]
    }
   ],
   "source": [
    "sqlite3 DbIMDB .dump >dump.sql\n"
   ]
  },
  {
   "cell_type": "code",
   "execution_count": 4,
   "metadata": {},
   "outputs": [
    {
     "ename": "SyntaxError",
     "evalue": "invalid syntax (<ipython-input-4-72cba6e3010d>, line 1)",
     "output_type": "error",
     "traceback": [
      "\u001b[0;36m  File \u001b[0;32m\"<ipython-input-4-72cba6e3010d>\"\u001b[0;36m, line \u001b[0;32m1\u001b[0m\n\u001b[0;31m    select Name from Person JOIN (select PID as k,count(PID) as c from M_Cast where MID in (select MID from Movie where year NOT BETWEEN 1970 and 1990) group by PID HAVING c>1)as p where PID = p.k ;\u001b[0m\n\u001b[0m              ^\u001b[0m\n\u001b[0;31mSyntaxError\u001b[0m\u001b[0;31m:\u001b[0m invalid syntax\n"
     ]
    }
   ],
   "source": [
    "select Name from Person JOIN (select PID as k,count(PID) as c from M_Cast where MID in (select MID from Movie where year NOT BETWEEN 1970 and 1990) group by PID HAVING c>1)as p where PID = p.k ;"
   ]
  },
  {
   "cell_type": "code",
   "execution_count": 5,
   "metadata": {},
   "outputs": [
    {
     "ename": "SyntaxError",
     "evalue": "invalid syntax (<ipython-input-5-cdebd1c973a3>, line 1)",
     "output_type": "error",
     "traceback": [
      "\u001b[0;36m  File \u001b[0;32m\"<ipython-input-5-cdebd1c973a3>\"\u001b[0;36m, line \u001b[0;32m1\u001b[0m\n\u001b[0;31m    select per.Name as Director_Name from Person as per join (select p.PID,count(p.PID) as c from M_Director as p, Movie as m where p.MID= m.MID group by p.PID HAVING C >= 10 )as j where per.PID = j.PID;\u001b[0m\n\u001b[0m             ^\u001b[0m\n\u001b[0;31mSyntaxError\u001b[0m\u001b[0;31m:\u001b[0m invalid syntax\n"
     ]
    }
   ],
   "source": [
    "select per.Name as Director_Name from Person as per join (select p.PID,count(p.PID) as c from M_Director as p, Movie as m where p.MID= m.MID group by p.PID HAVING C >= 10 )as j where per.PID = j.PID;"
   ]
  },
  {
   "cell_type": "code",
   "execution_count": 6,
   "metadata": {},
   "outputs": [
    {
     "ename": "SyntaxError",
     "evalue": "invalid syntax (<ipython-input-6-3c6a7cc732c4>, line 1)",
     "output_type": "error",
     "traceback": [
      "\u001b[0;36m  File \u001b[0;32m\"<ipython-input-6-3c6a7cc732c4>\"\u001b[0;36m, line \u001b[0;32m1\u001b[0m\n\u001b[0;31m    select per.Name as Director_Name,j.c as no_of_movies from Person as per join (select p.PID,count(p.PID) as c from M_Director as p, Movie as m where p.MID= m.MID group by p.PID HAVING C >= 10 )as j where per.PID = j.PID;\u001b[0m\n\u001b[0m             ^\u001b[0m\n\u001b[0;31mSyntaxError\u001b[0m\u001b[0;31m:\u001b[0m invalid syntax\n"
     ]
    }
   ],
   "source": [
    "select per.Name as Director_Name,j.c as no_of_movies from Person as per join (select p.PID,count(p.PID) as c from M_Director as p, Movie as m where p.MID= m.MID group by p.PID HAVING C >= 10 )as j where per.PID = j.PID;\n"
   ]
  },
  {
   "cell_type": "markdown",
   "metadata": {},
   "source": [
    "**working**"
   ]
  },
  {
   "cell_type": "code",
   "execution_count": 7,
   "metadata": {},
   "outputs": [
    {
     "ename": "SyntaxError",
     "evalue": "invalid syntax (<ipython-input-7-2ab3ddd7343d>, line 1)",
     "output_type": "error",
     "traceback": [
      "\u001b[0;36m  File \u001b[0;32m\"<ipython-input-7-2ab3ddd7343d>\"\u001b[0;36m, line \u001b[0;32m1\u001b[0m\n\u001b[0;31m    select DISTINCT TRIM(per.Name)as Director_Name ,j.c as no_of_movies from Person as per join (select p.PID,count(p.PID) as c from M_Director as p, Movie as m where p.MID= m.MID group by p.PID DESC HAVING C >= 10 )as j where per.PID = j.PID order by c DESC;\u001b[0m\n\u001b[0m                  ^\u001b[0m\n\u001b[0;31mSyntaxError\u001b[0m\u001b[0;31m:\u001b[0m invalid syntax\n"
     ]
    }
   ],
   "source": [
    "select DISTINCT TRIM(per.Name)as Director_Name ,j.c as no_of_movies from Person as per join (select p.PID,count(p.PID) as c from M_Director as p, Movie as m where p.MID= m.MID group by p.PID DESC HAVING C >= 10 )as j where per.PID = j.PID order by c DESC;"
   ]
  },
  {
   "cell_type": "markdown",
   "metadata": {},
   "source": [
    "**List the names of all the actors who played in the movie 'Anand' (1971)**"
   ]
  },
  {
   "cell_type": "code",
   "execution_count": 8,
   "metadata": {},
   "outputs": [
    {
     "ename": "SyntaxError",
     "evalue": "invalid syntax (<ipython-input-8-e3c9a7a7dce4>, line 1)",
     "output_type": "error",
     "traceback": [
      "\u001b[0;36m  File \u001b[0;32m\"<ipython-input-8-e3c9a7a7dce4>\"\u001b[0;36m, line \u001b[0;32m1\u001b[0m\n\u001b[0;31m    select * from Person where PID IN (select mc.PID as id  from M_Cast as mc where MID = (SELECT MID from Movie where title=\"Anand\" and year = 1971)) as l;\u001b[0m\n\u001b[0m                ^\u001b[0m\n\u001b[0;31mSyntaxError\u001b[0m\u001b[0;31m:\u001b[0m invalid syntax\n"
     ]
    }
   ],
   "source": [
    "select * from Person where PID IN (select mc.PID as id  from M_Cast as mc where MID = (SELECT MID from Movie where title=\"Anand\" and year = 1971)) as l;"
   ]
  },
  {
   "cell_type": "code",
   "execution_count": 9,
   "metadata": {},
   "outputs": [
    {
     "ename": "SyntaxError",
     "evalue": "invalid syntax (<ipython-input-9-d9453b0da018>, line 1)",
     "output_type": "error",
     "traceback": [
      "\u001b[0;36m  File \u001b[0;32m\"<ipython-input-9-d9453b0da018>\"\u001b[0;36m, line \u001b[0;32m1\u001b[0m\n\u001b[0;31m    select Name from Person INNER JOIN (select mc.PID as id  from M_Cast as mc where MID = (SELECT MID from Movie where title=\"Anand\" and year = 1971)) as l ON PID = l.id ;\u001b[0m\n\u001b[0m              ^\u001b[0m\n\u001b[0;31mSyntaxError\u001b[0m\u001b[0;31m:\u001b[0m invalid syntax\n"
     ]
    }
   ],
   "source": [
    "select Name from Person INNER JOIN (select mc.PID as id  from M_Cast as mc where MID = (SELECT MID from Movie where title=\"Anand\" and year = 1971)) as l ON PID = l.id ;"
   ]
  },
  {
   "cell_type": "markdown",
   "metadata": {},
   "source": [
    "**List all the actors who acted in a film before 1970 and in a film after 1990. (That is: < 1970\n",
    "and > 1990.)**"
   ]
  },
  {
   "cell_type": "code",
   "execution_count": 10,
   "metadata": {},
   "outputs": [
    {
     "ename": "SyntaxError",
     "evalue": "invalid syntax (<ipython-input-10-080a14b29ca3>, line 1)",
     "output_type": "error",
     "traceback": [
      "\u001b[0;36m  File \u001b[0;32m\"<ipython-input-10-080a14b29ca3>\"\u001b[0;36m, line \u001b[0;32m1\u001b[0m\n\u001b[0;31m    select p.Name from Person as p,(select PID as id ,COUNT(id) as c  from M_Cast where MID IN (select MID as mi  from Movie where year NOT BETWEEN 1970 and 1990 ) GROUP BY(id) HAVING c>=2)) =as l where p.PID = l.id ;\u001b[0m\n\u001b[0m           ^\u001b[0m\n\u001b[0;31mSyntaxError\u001b[0m\u001b[0;31m:\u001b[0m invalid syntax\n"
     ]
    }
   ],
   "source": [
    "select p.Name from Person as p,(select PID as id ,COUNT(id) as c  from M_Cast where MID IN (select MID as mi  from Movie where year NOT BETWEEN 1970 and 1990 ) GROUP BY(id) HAVING c>=2)) =as l where p.PID = l.id ;\n"
   ]
  },
  {
   "cell_type": "markdown",
   "metadata": {},
   "source": [
    "**QUeSTION 1:**\n",
    "\n",
    "working\n"
   ]
  },
  {
   "cell_type": "code",
   "execution_count": null,
   "metadata": {},
   "outputs": [],
   "source": [
    "select p.Name as Director_Name,m.title as Movie_name , m.year as year from Person as p, Movie as m,(select TRIM(PID) as pid,s.mid as mid from M_Director , (select TRIM(MID) as mid FROM Movie where mid IN(select TRIM(MID) as mid from M_Genre where GID IN(select GID from Genre where Name ='Comedy')) and MOD(year,4)=0) as s where s.mid = M_Director.MID) as k where k.mid = m.MID and k.pid = p.PID;\n"
   ]
  },
  {
   "cell_type": "markdown",
   "metadata": {},
   "source": [
    "**QUESTION6**"
   ]
  },
  {
   "cell_type": "code",
   "execution_count": null,
   "metadata": {},
   "outputs": [],
   "source": [
    "select title as Movie_Name, ap.c as Cast_count from Movie,(select p.MID as mid, count(mid)as c from (select MID,PID from M_Cast UNION select MID,PID from M_Cast)as p group by mid ORDER by C DESC)as ap where Movie.MID = ap.mid limit 10;\n"
   ]
  },
  {
   "cell_type": "markdown",
   "metadata": {},
   "source": [
    "question3"
   ]
  },
  {
   "cell_type": "code",
   "execution_count": null,
   "metadata": {},
   "outputs": [],
   "source": [
    " select Name from Person where Person.pid in (select pp from (select distinct TRIM(pid) as pp from M_Cast where mid in (select mid from Movie where year < 1970)) AS K INNER JOIN  (select distinct TRIM(pid) as po from M_Cast where mid in (select mid from Movie where year > 1990)) AS KK ON K.pp=KK.po);\n"
   ]
  },
  {
   "cell_type": "markdown",
   "metadata": {},
   "source": [
    "Question 2"
   ]
  },
  {
   "cell_type": "code",
   "execution_count": null,
   "metadata": {},
   "outputs": [],
   "source": [
    "select Name from Person where pid in (select TRIM(pid) as pd from M_Cast where mid=(select mid from Movie where title = 'Anand'));\n"
   ]
  }
 ],
 "metadata": {
  "kernelspec": {
   "display_name": "Python 3",
   "language": "python",
   "name": "python3"
  },
  "language_info": {
   "codemirror_mode": {
    "name": "ipython",
    "version": 3
   },
   "file_extension": ".py",
   "mimetype": "text/x-python",
   "name": "python",
   "nbconvert_exporter": "python",
   "pygments_lexer": "ipython3",
   "version": "3.6.8"
  }
 },
 "nbformat": 4,
 "nbformat_minor": 2
}
